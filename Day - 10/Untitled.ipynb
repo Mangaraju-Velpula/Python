{
 "cells": [
  {
   "cell_type": "code",
   "execution_count": 1,
   "metadata": {},
   "outputs": [
    {
     "name": "stdout",
     "output_type": "stream",
     "text": [
      "Enter a number5\n",
      "0 1 2 3 4\n"
     ]
    }
   ],
   "source": [
    "num = input(\"Enter a number\")\n",
    "i=0\n",
    "while(i<num):\n",
    "    print i,\n",
    "    i=i+1"
   ]
  },
  {
   "cell_type": "code",
   "execution_count": 2,
   "metadata": {},
   "outputs": [
    {
     "name": "stdout",
     "output_type": "stream",
     "text": [
      "Enter a number2\n",
      "Given number is even number\n",
      "Enter a number4\n",
      "Given number is even number\n",
      "Enter a number5\n",
      "Sorry Given is Odd number\n"
     ]
    }
   ],
   "source": [
    "num = input(\"Enter a number\")\n",
    "while(num%2==0):\n",
    "    print \"Given number is even number\"\n",
    "    num=input(\"Enter a number\")\n",
    "print \"Sorry Given is Odd number\""
   ]
  },
  {
   "cell_type": "code",
   "execution_count": null,
   "metadata": {},
   "outputs": [],
   "source": [
    "lengthOfPattern = input(\"Enter length of Pattern\")\n",
    "i=0\n",
    "while(i<lengthOfPattern):\n",
    "    j=0\n",
    "    while(j<i+1):\n",
    "        print \"*\",\n",
    "        j=j+1\n",
    "    i=i+1\n",
    "    print \"\\n\"\n",
    "i=0\n",
    "while(i<lengthOfPattern):\n",
    "    j=0\n",
    "    while(j<lengthOfPattern-i):\n",
    "        print \"*\",\n",
    "        j+=1\n",
    "    i=i+1\n",
    "    print \"\\n\""
   ]
  },
  {
   "cell_type": "code",
   "execution_count": null,
   "metadata": {},
   "outputs": [],
   "source": [
    "i=1\n",
    "while(i<100):\n",
    "    NoOfTimeDivisible = 0\n",
    "    j=1\n",
    "    while(j<i+1):\n",
    "        if(i%j==0):\n",
    "            NoOfTimeDivisible+=1\n",
    "        j+=1\n",
    "    if(NoOfTimeDivisible==2):\n",
    "        print i,\n",
    "    i+=1\n"
   ]
  },
  {
   "cell_type": "code",
   "execution_count": 1,
   "metadata": {},
   "outputs": [
    {
     "name": "stdout",
     "output_type": "stream",
     "text": [
      "A\n",
      "A B\n",
      "A B C\n",
      "A B C D\n",
      "A B C D E\n"
     ]
    }
   ],
   "source": [
    "for i in range(1, 6):\n",
    "    for j in range(65, 65+i):\n",
    "        a = chr(j)\n",
    "        print a,\n",
    "    print"
   ]
  },
  {
   "cell_type": "code",
   "execution_count": null,
   "metadata": {},
   "outputs": [],
   "source": []
  }
 ],
 "metadata": {
  "kernelspec": {
   "display_name": "Python 2",
   "language": "python",
   "name": "python2"
  },
  "language_info": {
   "codemirror_mode": {
    "name": "ipython",
    "version": 2
   },
   "file_extension": ".py",
   "mimetype": "text/x-python",
   "name": "python",
   "nbconvert_exporter": "python",
   "pygments_lexer": "ipython2",
   "version": "2.7.12"
  }
 },
 "nbformat": 4,
 "nbformat_minor": 2
}
