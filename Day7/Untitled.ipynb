{
 "cells": [
  {
   "cell_type": "code",
   "execution_count": 1,
   "metadata": {},
   "outputs": [
    {
     "name": "stdout",
     "output_type": "stream",
     "text": [
      "Enter Number 10\n",
      "0 1 2 3 4 5 6 7 8 9\n"
     ]
    }
   ],
   "source": [
    "number = input(\"Enter Number \")\n",
    "i=0\n",
    "while(i<number):\n",
    "    print i,\n",
    "    i+=1"
   ]
  },
  {
   "cell_type": "markdown",
   "metadata": {},
   "source": [
    "number = input(\"Enter Number\")\n",
    "i=0\n",
    "while(i<number):"
   ]
  },
  {
   "cell_type": "code",
   "execution_count": 2,
   "metadata": {},
   "outputs": [
    {
     "name": "stdout",
     "output_type": "stream",
     "text": [
      "Enter Number50\n",
      "0 2 4 6 8 10 12 14 16 18 20 22 24 26 28 30 32 34 36 38 40 42 44 46 48\n"
     ]
    }
   ],
   "source": [
    "number = input(\"Enter Number\")\n",
    "i=0\n",
    "while(i<number):\n",
    "    print i,\n",
    "    i+=2"
   ]
  },
  {
   "cell_type": "code",
   "execution_count": 3,
   "metadata": {},
   "outputs": [
    {
     "name": "stdout",
     "output_type": "stream",
     "text": [
      "Enter Number50\n",
      "1 3 5 7 9 11 13 15 17 19 21 23 25 27 29 31 33 35 37 39 41 43 45 47 49\n"
     ]
    }
   ],
   "source": [
    "number = input(\"Enter Number\")\n",
    "i=1\n",
    "while(i<number):\n",
    "    print i,\n",
    "    i+=2"
   ]
  },
  {
   "cell_type": "code",
   "execution_count": 4,
   "metadata": {},
   "outputs": [
    {
     "name": "stdout",
     "output_type": "stream",
     "text": [
      "Enter Number 5\n",
      "0*5=0\n",
      "1*5=5\n",
      "2*5=10\n",
      "3*5=15\n",
      "4*5=20\n",
      "5*5=25\n",
      "6*5=30\n",
      "7*5=35\n",
      "8*5=40\n",
      "9*5=45\n",
      "10*5=50\n",
      "11*5=55\n",
      "12*5=60\n",
      "13*5=65\n",
      "14*5=70\n",
      "15*5=75\n",
      "16*5=80\n",
      "17*5=85\n",
      "18*5=90\n",
      "19*5=95\n"
     ]
    }
   ],
   "source": [
    "number = input(\"Enter Number \")\n",
    "i=0\n",
    "while (i<20):\n",
    "    print str(i)+\"*\"+str(number)+\"=\"+str(i*number)\n",
    "    i=i+1"
   ]
  },
  {
   "cell_type": "code",
   "execution_count": 7,
   "metadata": {},
   "outputs": [
    {
     "name": "stdout",
     "output_type": "stream",
     "text": [
      "Enter Number5\n",
      "10\n"
     ]
    }
   ],
   "source": [
    "number = input(\"Enter Number\")\n",
    "i=0\n",
    "sum=0\n",
    "while(i<number):\n",
    "    sum +=i\n",
    "    i+=1\n",
    "print sum"
   ]
  },
  {
   "cell_type": "markdown",
   "metadata": {},
   "source": [
    "\n",
    "print \"Hllo\""
   ]
  },
  {
   "cell_type": "code",
   "execution_count": 11,
   "metadata": {},
   "outputs": [
    {
     "name": "stdout",
     "output_type": "stream",
     "text": [
      "2\n",
      "3\n",
      "5\n",
      "7\n",
      "11\n",
      "13\n",
      "17\n",
      "19\n",
      "23\n",
      "29\n",
      "31\n",
      "37\n",
      "41\n",
      "43\n",
      "47\n",
      "53\n",
      "59\n",
      "61\n",
      "67\n",
      "71\n",
      "73\n",
      "79\n",
      "83\n",
      "89\n",
      "97\n"
     ]
    }
   ],
   "source": [
    "i=1\n",
    "while(i<100):\n",
    "    noOfDivisiblity=0\n",
    "    j=1\n",
    "    while(j<i+1):\n",
    "        if(i%j==0):\n",
    "            noOfDivisiblity+=1\n",
    "        j+=1\n",
    "    if(noOfDivisiblity ==2):\n",
    "        print i\n",
    "    i+=1"
   ]
  },
  {
   "cell_type": "code",
   "execution_count": null,
   "metadata": {},
   "outputs": [],
   "source": []
  }
 ],
 "metadata": {
  "kernelspec": {
   "display_name": "Python 2",
   "language": "python",
   "name": "python2"
  },
  "language_info": {
   "codemirror_mode": {
    "name": "ipython",
    "version": 2
   },
   "file_extension": ".py",
   "mimetype": "text/x-python",
   "name": "python",
   "nbconvert_exporter": "python",
   "pygments_lexer": "ipython2",
   "version": "2.7.12"
  }
 },
 "nbformat": 4,
 "nbformat_minor": 2
}
