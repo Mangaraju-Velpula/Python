{
 "cells": [
  {
   "cell_type": "code",
   "execution_count": 2,
   "metadata": {},
   "outputs": [
    {
     "name": "stdout",
     "output_type": "stream",
     "text": [
      "* \n",
      "\r\n",
      "* \n",
      "* \n",
      "\r\n",
      "* \n",
      "* \n",
      "* \n",
      "\r\n",
      "* \n",
      "* \n",
      "* \n",
      "* \n",
      "\r\n",
      "* \n",
      "* \n",
      "* \n",
      "* \n",
      "* \n",
      "\r\n",
      "* \n",
      "* \n",
      "* \n",
      "* \n",
      "* \n",
      "* \n",
      "\r\n",
      "* \n",
      "* \n",
      "* \n",
      "* \n",
      "* \n",
      "* \n",
      "* \n",
      "\r\n",
      "* \n",
      "* \n",
      "* \n",
      "* \n",
      "* \n",
      "* \n",
      "* \n",
      "* \n",
      "\r\n",
      "* \n",
      "* \n",
      "* \n",
      "* \n",
      "* \n",
      "* \n",
      "* \n",
      "* \n",
      "* \n",
      "\r\n",
      "* \n",
      "* \n",
      "* \n",
      "* \n",
      "* \n",
      "* \n",
      "* \n",
      "* \n",
      "* \n",
      "* \n",
      "\r\n"
     ]
    }
   ],
   "source": [
    "for i in range(10):\n",
    "    for j in range(i+1):\n",
    "        print \"* \"\n",
    "    print \"\\r\""
   ]
  },
  {
   "cell_type": "code",
   "execution_count": null,
   "metadata": {},
   "outputs": [],
   "source": [
    " "
   ]
  }
 ],
 "metadata": {
  "kernelspec": {
   "display_name": "Python 2",
   "language": "python",
   "name": "python2"
  },
  "language_info": {
   "codemirror_mode": {
    "name": "ipython",
    "version": 2
   },
   "file_extension": ".py",
   "mimetype": "text/x-python",
   "name": "python",
   "nbconvert_exporter": "python",
   "pygments_lexer": "ipython2",
   "version": "2.7.12"
  }
 },
 "nbformat": 4,
 "nbformat_minor": 2
}
