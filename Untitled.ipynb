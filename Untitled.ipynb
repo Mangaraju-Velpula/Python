{
 "cells": [
  {
   "cell_type": "code",
   "execution_count": 1,
   "metadata": {},
   "outputs": [
    {
     "data": {
      "text/plain": [
       "[0, 1]"
      ]
     },
     "execution_count": 1,
     "metadata": {},
     "output_type": "execute_result"
    }
   ],
   "source": [
    "range(2)"
   ]
  },
  {
   "cell_type": "code",
   "execution_count": 2,
   "metadata": {},
   "outputs": [
    {
     "ename": "SyntaxError",
     "evalue": "invalid syntax (<ipython-input-2-c236d62f7e74>, line 1)",
     "output_type": "error",
     "traceback": [
      "\u001b[0;36m  File \u001b[0;32m\"<ipython-input-2-c236d62f7e74>\"\u001b[0;36m, line \u001b[0;32m1\u001b[0m\n\u001b[0;31m    range(,,1)\u001b[0m\n\u001b[0m          ^\u001b[0m\n\u001b[0;31mSyntaxError\u001b[0m\u001b[0;31m:\u001b[0m invalid syntax\n"
     ]
    }
   ],
   "source": [
    "range(,,1)"
   ]
  },
  {
   "cell_type": "code",
   "execution_count": 3,
   "metadata": {},
   "outputs": [
    {
     "name": "stdout",
     "output_type": "stream",
     "text": [
      "sum is  55\n"
     ]
    }
   ],
   "source": [
    "sum=0\n",
    "for i in range(11):\n",
    "    sum=sum+i\n",
    "    \n",
    "print \"sum is \",sum"
   ]
  },
  {
   "cell_type": "code",
   "execution_count": 2,
   "metadata": {},
   "outputs": [
    {
     "name": "stdout",
     "output_type": "stream",
     "text": [
      "0 is armstrong number\n",
      "1 is armstrong number\n",
      "2 is armstrong number\n",
      "3 is armstrong number\n",
      "4 is armstrong number\n",
      "5 is armstrong number\n",
      "6 is armstrong number\n",
      "7 is armstrong number\n",
      "8 is armstrong number\n",
      "9 is armstrong number\n",
      "153 is armstrong number\n",
      "370 is armstrong number\n",
      "371 is armstrong number\n",
      "407 is armstrong number\n",
      "1634 is armstrong number\n",
      "8208 is armstrong number\n",
      "9474 is armstrong number\n"
     ]
    }
   ],
   "source": [
    "for i in range(10000):\n",
    "    number = i;\n",
    "    lengthOfValue = len(str(number))\n",
    "    Sum=0\n",
    "    for j in range(lengthOfValue):\n",
    "        lastDigit=number%10\n",
    "        number=number/10\n",
    "        Sum +=(lastDigit **lengthOfValue)\n",
    "    if i==Sum:\n",
    "        print str(i)+\" is armstrong number\"\n",
    "    "
   ]
  },
  {
   "cell_type": "code",
   "execution_count": null,
   "metadata": {},
   "outputs": [],
   "source": []
  }
 ],
 "metadata": {
  "kernelspec": {
   "display_name": "Python 2",
   "language": "python",
   "name": "python2"
  },
  "language_info": {
   "codemirror_mode": {
    "name": "ipython",
    "version": 2
   },
   "file_extension": ".py",
   "mimetype": "text/x-python",
   "name": "python",
   "nbconvert_exporter": "python",
   "pygments_lexer": "ipython2",
   "version": "2.7.12"
  }
 },
 "nbformat": 4,
 "nbformat_minor": 2
}
