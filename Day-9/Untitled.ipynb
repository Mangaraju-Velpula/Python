{
 "cells": [
  {
   "cell_type": "code",
   "execution_count": 3,
   "metadata": {},
   "outputs": [
    {
     "name": "stdout",
     "output_type": "stream",
     "text": [
      "Enter a number10\n",
      "0 \n",
      "\n",
      "1 1 \n",
      "\n",
      "2 2 2 \n",
      "\n",
      "3 3 3 3 \n",
      "\n",
      "4 4 4 4 4 \n",
      "\n",
      "5 5 5 5 5 5 \n",
      "\n",
      "6 6 6 6 6 6 6 \n",
      "\n",
      "7 7 7 7 7 7 7 7 \n",
      "\n",
      "8 8 8 8 8 8 8 8 8 \n",
      "\n",
      "9 9 9 9 9 9 9 9 9 9 \n",
      "\n"
     ]
    }
   ],
   "source": [
    "a = input(\"Enter a number\")\n",
    "for i in range(a):\n",
    "    for j in range(i+1):\n",
    "        print i,\n",
    "    print \"\\n\""
   ]
  },
  {
   "cell_type": "code",
   "execution_count": 4,
   "metadata": {},
   "outputs": [
    {
     "name": "stdout",
     "output_type": "stream",
     "text": [
      "Enter a number10\n",
      "0 \n",
      "\n",
      "0 1 \n",
      "\n",
      "0 1 2 \n",
      "\n",
      "0 1 2 3 \n",
      "\n",
      "0 1 2 3 4 \n",
      "\n",
      "0 1 2 3 4 5 \n",
      "\n",
      "0 1 2 3 4 5 6 \n",
      "\n",
      "0 1 2 3 4 5 6 7 \n",
      "\n",
      "0 1 2 3 4 5 6 7 8 \n",
      "\n",
      "0 1 2 3 4 5 6 7 8 9 \n",
      "\n"
     ]
    }
   ],
   "source": [
    "a = input(\"Enter a number\")\n",
    "for i in range(a):\n",
    "    for j in range(i+1):\n",
    "        print j,\n",
    "    print \"\\n\""
   ]
  },
  {
   "cell_type": "code",
   "execution_count": 1,
   "metadata": {},
   "outputs": [
    {
     "name": "stdout",
     "output_type": "stream",
     "text": [
      "Enter a number5\n",
      "          0 \n",
      "\n",
      "        0 1 \n",
      "\n",
      "      0 1 2 \n",
      "\n",
      "    0 1 2 3 \n",
      "\n",
      "  0 1 2 3 4 \n",
      "\n",
      "0 1 2 3 4 5 \n",
      "\n"
     ]
    }
   ],
   "source": [
    "a = input(\"Enter a number\")\n",
    "for i in range(a+1):\n",
    "    for k in range(0,a-i):\n",
    "        print \" \",\n",
    "    for j in range(i+1):\n",
    "        print j,\n",
    "    print \"\\n\""
   ]
  },
  {
   "cell_type": "code",
   "execution_count": 10,
   "metadata": {},
   "outputs": [
    {
     "name": "stdout",
     "output_type": "stream",
     "text": [
      "Enter a number10\n",
      "                    0 \n",
      "\n",
      "                  0 1 \n",
      "\n",
      "                0 1 2 \n",
      "\n",
      "              0 1 2 3 \n",
      "\n",
      "            0 1 2 3 4 \n",
      "\n",
      "          0 1 2 3 4 5 \n",
      "\n",
      "        0 1 2 3 4 5 6 \n",
      "\n",
      "      0 1 2 3 4 5 6 7 \n",
      "\n",
      "    0 1 2 3 4 5 6 7 8 \n",
      "\n",
      "  0 1 2 3 4 5 6 7 8 9 \n",
      "\n",
      "0 1 2 3 4 5 6 7 8 9 10 \n",
      "\n"
     ]
    }
   ],
   "source": [
    "a = input(\"Enter a number\")\n",
    "for i in range(a+1):\n",
    "    for k in range(0,a-i):\n",
    "        print \" \",\n",
    "    for j in range(i+1):\n",
    "        print j,\n",
    "    print \"\\n\"\n",
    "    \n",
    "    "
   ]
  },
  {
   "cell_type": "code",
   "execution_count": 4,
   "metadata": {},
   "outputs": [
    {
     "name": "stdout",
     "output_type": "stream",
     "text": [
      "Enter a number5\n",
      "0                     0 \n",
      "\n",
      "1 1                 1 1 \n",
      "\n",
      "2 2 2             2 2 2 \n",
      "\n",
      "3 3 3 3         3 3 3 3 \n",
      "\n",
      "4 4 4 4 4     4 4 4 4 4 \n",
      "\n",
      "5 5 5 5 5 5 5 5 5 5 5 5 \n",
      "\n"
     ]
    }
   ],
   "source": [
    "a = input(\"Enter a number\")\n",
    "for i in range(a+1):\n",
    "    for j in range(i+1):\n",
    "        print i,\n",
    "    for k in range(0,a-i):\n",
    "        print \" \",\n",
    "    for k in range(0,a-i):\n",
    "        print \" \",\n",
    "    for j in range(i+1):\n",
    "        print i,\n",
    "    print \"\\n\""
   ]
  },
  {
   "cell_type": "code",
   "execution_count": 15,
   "metadata": {},
   "outputs": [
    {
     "name": "stdout",
     "output_type": "stream",
     "text": [
      "Enter Number6\n",
      "* * * * * * * \n",
      "\n",
      "*           * \n",
      "\n",
      "*           * \n",
      "\n",
      "*           * \n",
      "\n",
      "*           * \n",
      "\n",
      "*           * \n",
      "\n",
      "* * * * * * * \n",
      "\n"
     ]
    }
   ],
   "source": [
    "number = input(\"Enter Number\")\n",
    "for i in range(number+1):\n",
    "    for j in range(number+1):\n",
    "        if i==0 or j==0 or i ==number or j == number:\n",
    "            print \"*\",\n",
    "        else:\n",
    "            print \" \",\n",
    "    print \"\\n\"\n"
   ]
  },
  {
   "cell_type": "code",
   "execution_count": 19,
   "metadata": {},
   "outputs": [
    {
     "name": "stdout",
     "output_type": "stream",
     "text": [
      "Enter Number7\n",
      "* * * * * * * * \n",
      "\n",
      "* *           * \n",
      "\n",
      "*   *         * \n",
      "\n",
      "*     *       * \n",
      "\n",
      "*       *     * \n",
      "\n",
      "*         *   * \n",
      "\n",
      "*           * * \n",
      "\n",
      "* * * * * * * * \n",
      "\n"
     ]
    }
   ],
   "source": [
    "number = input(\"Enter Number\")\n",
    "for i in range(number+1):\n",
    "    for j in range(number+1):\n",
    "        if i==0 or j==0 or i ==number or j == number:\n",
    "            print \"*\",\n",
    "        elif i==j:\n",
    "            print \"*\",\n",
    "        else:\n",
    "            print \" \",\n",
    "    print \"\\n\""
   ]
  },
  {
   "cell_type": "code",
   "execution_count": 25,
   "metadata": {},
   "outputs": [
    {
     "name": "stdout",
     "output_type": "stream",
     "text": [
      "- - - - - * \n",
      "\n",
      "- - - - * * \n",
      "\n",
      "- - - * * * \n",
      "\n",
      "- - * * * * \n",
      "\n",
      "- * * * * * \n",
      "\n",
      "* * * * * * \n",
      "\n"
     ]
    }
   ],
   "source": [
    "k=10/2\n",
    "for i in range(6):\n",
    "    for j in range(k):\n",
    "        print \"-\",\n",
    "    k=k-1\n",
    "    for j in range(i+1):\n",
    "        print \"*\",\n",
    "    print \"\\n\""
   ]
  },
  {
   "cell_type": "code",
   "execution_count": null,
   "metadata": {},
   "outputs": [],
   "source": []
  },
  {
   "cell_type": "code",
   "execution_count": 27,
   "metadata": {},
   "outputs": [
    {
     "name": "stdout",
     "output_type": "stream",
     "text": [
      "                                    *  \n",
      "\n",
      "                                  *  *  \n",
      "\n",
      "                                *  *  *  \n",
      "\n",
      "                              *  *  *  *  \n",
      "\n",
      "                            *  *  *  *  *  \n",
      "\n",
      "                          *  *  *  *  *  *  \n",
      "\n",
      "                        *  *  *  *  *  *  *  \n",
      "\n",
      "                      *  *  *  *  *  *  *  *  \n",
      "\n",
      "                    *  *  *  *  *  *  *  *  *  \n",
      "\n",
      "                  *  *  *  *  *  *  *  *  *  *  \n",
      "\n"
     ]
    }
   ],
   "source": [
    "\n",
    "def triangle(n):\n",
    "\n",
    "\tk = 2*n - 2\n",
    "\tfor i in range(0, n):\n",
    "\t\tfor j in range(0, k):\n",
    "\t\t\tprint \" \",\n",
    "\t\tk = k - 1\n",
    "\t\tfor j in range(0, i+1):\n",
    "\t\t\tprint \"* \",\n",
    "\t\tprint \"\\n\"\n",
    "\n",
    "# Driver Code\n",
    "n = 10\n",
    "triangle(n)"
   ]
  },
  {
   "cell_type": "code",
   "execution_count": 14,
   "metadata": {},
   "outputs": [
    {
     "name": "stdout",
     "output_type": "stream",
     "text": [
      "enter pattern length6\n",
      "* * * * * * \n",
      "\n",
      "* * * * * \n",
      "\n",
      "* * * * \n",
      "\n",
      "* * * \n",
      "\n",
      "* * \n",
      "\n",
      "* \n",
      "\n"
     ]
    }
   ],
   "source": [
    "pn = input(\"enter pattern length\")\n",
    "for i in range(pn):\n",
    "    for j in range(pn-i):\n",
    "        print \"*\",\n",
    "    print \"\\n\""
   ]
  },
  {
   "cell_type": "code",
   "execution_count": 28,
   "metadata": {},
   "outputs": [
    {
     "name": "stdout",
     "output_type": "stream",
     "text": [
      "enter pattern length5\n",
      "*  \n",
      "\n",
      "*  *  \n",
      "\n",
      "*  *  *  \n",
      "\n",
      "*  *  *  *  \n",
      "\n",
      "*  *  *  *  *  \n",
      "\n",
      "*  *  *  *  \n",
      "\n",
      "*  *  *  \n",
      "\n",
      "*  *  \n",
      "\n",
      "*  \n",
      "\n"
     ]
    }
   ],
   "source": [
    "pn = input(\"enter pattern length\")\n",
    "for i in range(1, pn):\n",
    "    for j in range(i):\n",
    "        print \"* \",\n",
    "    print \"\\n\"\n",
    "for i in range(pn):\n",
    "    for j in range(pn-i):\n",
    "        print \"* \",\n",
    "    print \"\\n\""
   ]
  },
  {
   "cell_type": "code",
   "execution_count": 13,
   "metadata": {},
   "outputs": [
    {
     "name": "stdout",
     "output_type": "stream",
     "text": [
      "value =====> 1\n",
      "value =====> 2\n",
      "i value is 2\n"
     ]
    }
   ],
   "source": [
    "for i in range(1, 10):\n",
    "    print \"value =====>\", i\n",
    "    if i == 2:\n",
    "        print \"i value i5\n",
    "        s 2\"\n",
    "        break"
   ]
  },
  {
   "cell_type": "code",
   "execution_count": 2,
   "metadata": {},
   "outputs": [
    {
     "name": "stdout",
     "output_type": "stream",
     "text": [
      "Enter Numbr5\n",
      "* * * * * \n",
      "\n",
      "* * * * * \n",
      "\n",
      "* * * * * \n",
      "\n",
      "* * * * * \n",
      "\n",
      "* * * * * \n",
      "\n"
     ]
    }
   ],
   "source": [
    "number = input(\"Enter Numbr\")\n",
    "i=0\n",
    "while(i<number):\n",
    "    j=0\n",
    "    while(j<number):\n",
    "        print \"*\",\n",
    "        j+=1\n",
    "    print \"\\n\"\n",
    "    i+=1"
   ]
  },
  {
   "cell_type": "code",
   "execution_count": 3,
   "metadata": {},
   "outputs": [
    {
     "name": "stdout",
     "output_type": "stream",
     "text": [
      "Enter Numbr5\n",
      "0 \n",
      "\n",
      "0 1 \n",
      "\n",
      "0 1 2 \n",
      "\n",
      "0 1 2 3 \n",
      "\n",
      "0 1 2 3 4 \n",
      "\n"
     ]
    }
   ],
   "source": [
    "number = input(\"Enter Numbr\")\n",
    "i=0\n",
    "while(i<number):\n",
    "    j=0\n",
    "    while(j<i+1):\n",
    "        print j,\n",
    "        j+=1\n",
    "    print \"\\n\"\n",
    "    i+=1"
   ]
  },
  {
   "cell_type": "code",
   "execution_count": 4,
   "metadata": {},
   "outputs": [
    {
     "name": "stdout",
     "output_type": "stream",
     "text": [
      "Enter Numbr5\n",
      "0 1 2 3 4 \n",
      "\n",
      "0 1 2 3 \n",
      "\n",
      "0 1 2 \n",
      "\n",
      "0 1 \n",
      "\n",
      "0 \n",
      "\n"
     ]
    }
   ],
   "source": [
    "number = input(\"Enter Numbr\")\n",
    "i=0\n",
    "while(i<number):\n",
    "    j=0\n",
    "    while(j<number-i):\n",
    "        print j,\n",
    "        j+=1\n",
    "    print \"\\n\"\n",
    "    i+=1"
   ]
  },
  {
   "cell_type": "code",
   "execution_count": 5,
   "metadata": {},
   "outputs": [
    {
     "name": "stdout",
     "output_type": "stream",
     "text": [
      "Enter Numbr5\n",
      "          0 \n",
      "\n",
      "        0 1 \n",
      "\n",
      "      0 1 2 \n",
      "\n",
      "    0 1 2 3 \n",
      "\n",
      "  0 1 2 3 4 \n",
      "\n"
     ]
    }
   ],
   "source": [
    "number = input(\"Enter Numbr\")\n",
    "i=0\n",
    "while(i<number):\n",
    "    k=0\n",
    "    while(k<number-i):\n",
    "        print \" \",\n",
    "        k+=1\n",
    "    j=0\n",
    "    while(j<i+1):\n",
    "        print j,\n",
    "        j+=1\n",
    "    print \"\\n\"\n",
    "    i+=1"
   ]
  },
  {
   "cell_type": "code",
   "execution_count": null,
   "metadata": {},
   "outputs": [],
   "source": [
    "number = input(\"Enter Number\")\n",
    "i=0\n",
    "while(i<number):\n",
    "    j=0\n",
    "    while(j<number):\n",
    "        if i==0 or i==j or j==0 or i==number-1 or j==number-1:\n",
    "            print \"*\",\n",
    "        else :\n",
    "            print \" \",\n",
    "        j=j+1\n",
    "    print \"\\n\"\n",
    "    i=i+1"
   ]
  },
  {
   "cell_type": "code",
   "execution_count": null,
   "metadata": {},
   "outputs": [],
   "source": [
    "number = input(\"Enter Number\")\n",
    "i=0\n",
    "while(i<number):\n",
    "    j=0\n",
    "    while(j<number):\n",
    "        if i==0 or i==j or j==0 or i==number-1 or j==number-1:\n",
    "            print \"*\",\n",
    "        else :\n",
    "            print \" \",\n",
    "        j=j+1\n",
    "    print \"\\n\"\n",
    "    i=i+1"
   ]
  },
  {
   "cell_type": "code",
   "execution_count": null,
   "metadata": {},
   "outputs": [],
   "source": []
  }
 ],
 "metadata": {
  "kernelspec": {
   "display_name": "Python 2",
   "language": "python",
   "name": "python2"
  },
  "language_info": {
   "codemirror_mode": {
    "name": "ipython",
    "version": 2
   },
   "file_extension": ".py",
   "mimetype": "text/x-python",
   "name": "python",
   "nbconvert_exporter": "python",
   "pygments_lexer": "ipython2",
   "version": "2.7.12"
  }
 },
 "nbformat": 4,
 "nbformat_minor": 2
}
